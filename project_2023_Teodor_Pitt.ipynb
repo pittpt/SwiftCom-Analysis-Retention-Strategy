{
 "cells": [
  {
   "cell_type": "markdown",
   "metadata": {},
   "source": [
    "# Semester project\n",
    "\n",
    "* Name and Matriculation number\n",
    "* Name and Matriculation number"
   ]
  },
  {
   "cell_type": "code",
   "execution_count": 2,
   "metadata": {},
   "outputs": [],
   "source": [
    "# Import packages \n",
    "import pandas as pd \n",
    "import numpy as np\n",
    "import matplotlib.pyplot as plt\n",
    "from sklearn.preprocessing import KBinsDiscretizer\n",
    "from sklearn.preprocessing import OneHotEncoder\n",
    "from sklearn.preprocessing import StandardScaler\n",
    "from sklearn.cluster import KMeans\n",
    "from sklearn.impute import SimpleImputer\n",
    "from sklearn.model_selection import train_test_split\n",
    "from sklearn.linear_model import LogisticRegression\n",
    "from sklearn.metrics import accuracy_score"
   ]
  },
  {
   "cell_type": "markdown",
   "metadata": {},
   "source": [
    "## Task 1"
   ]
  },
  {
   "cell_type": "markdown",
   "metadata": {},
   "source": [
    "a)"
   ]
  },
  {
   "cell_type": "code",
   "execution_count": 3,
   "metadata": {},
   "outputs": [
    {
     "data": {
      "text/html": [
       "<div>\n",
       "<style scoped>\n",
       "    .dataframe tbody tr th:only-of-type {\n",
       "        vertical-align: middle;\n",
       "    }\n",
       "\n",
       "    .dataframe tbody tr th {\n",
       "        vertical-align: top;\n",
       "    }\n",
       "\n",
       "    .dataframe thead th {\n",
       "        text-align: right;\n",
       "    }\n",
       "</style>\n",
       "<table border=\"1\" class=\"dataframe\">\n",
       "  <thead>\n",
       "    <tr style=\"text-align: right;\">\n",
       "      <th></th>\n",
       "      <th>Gender</th>\n",
       "      <th>Age</th>\n",
       "      <th>Married</th>\n",
       "      <th>Number of Dependents</th>\n",
       "      <th>City</th>\n",
       "      <th>Zip Code</th>\n",
       "      <th>Latitude</th>\n",
       "      <th>Longitude</th>\n",
       "      <th>Number of Referrals</th>\n",
       "      <th>Tenure in Months</th>\n",
       "      <th>...</th>\n",
       "      <th>Payment Method</th>\n",
       "      <th>Monthly Charge</th>\n",
       "      <th>Total Charges</th>\n",
       "      <th>Total Refunds</th>\n",
       "      <th>Total Extra Data Charges</th>\n",
       "      <th>Total Long Distance Charges</th>\n",
       "      <th>Total Revenue</th>\n",
       "      <th>Customer Status</th>\n",
       "      <th>Churn Category</th>\n",
       "      <th>Churn Reason</th>\n",
       "    </tr>\n",
       "    <tr>\n",
       "      <th>Customer ID</th>\n",
       "      <th></th>\n",
       "      <th></th>\n",
       "      <th></th>\n",
       "      <th></th>\n",
       "      <th></th>\n",
       "      <th></th>\n",
       "      <th></th>\n",
       "      <th></th>\n",
       "      <th></th>\n",
       "      <th></th>\n",
       "      <th></th>\n",
       "      <th></th>\n",
       "      <th></th>\n",
       "      <th></th>\n",
       "      <th></th>\n",
       "      <th></th>\n",
       "      <th></th>\n",
       "      <th></th>\n",
       "      <th></th>\n",
       "      <th></th>\n",
       "      <th></th>\n",
       "    </tr>\n",
       "  </thead>\n",
       "  <tbody>\n",
       "    <tr>\n",
       "      <th>0002-ORFBO</th>\n",
       "      <td>Female</td>\n",
       "      <td>37</td>\n",
       "      <td>Yes</td>\n",
       "      <td>0</td>\n",
       "      <td>Frazier Park</td>\n",
       "      <td>93225</td>\n",
       "      <td>34.827662</td>\n",
       "      <td>-118.999073</td>\n",
       "      <td>2</td>\n",
       "      <td>9</td>\n",
       "      <td>...</td>\n",
       "      <td>Credit Card</td>\n",
       "      <td>65.6</td>\n",
       "      <td>593.30</td>\n",
       "      <td>0.00</td>\n",
       "      <td>0</td>\n",
       "      <td>381.51</td>\n",
       "      <td>974.81</td>\n",
       "      <td>Stayed</td>\n",
       "      <td>NaN</td>\n",
       "      <td>NaN</td>\n",
       "    </tr>\n",
       "    <tr>\n",
       "      <th>0003-MKNFE</th>\n",
       "      <td>Male</td>\n",
       "      <td>46</td>\n",
       "      <td>No</td>\n",
       "      <td>0</td>\n",
       "      <td>Glendale</td>\n",
       "      <td>91206</td>\n",
       "      <td>34.162515</td>\n",
       "      <td>-118.203869</td>\n",
       "      <td>0</td>\n",
       "      <td>9</td>\n",
       "      <td>...</td>\n",
       "      <td>Credit Card</td>\n",
       "      <td>-4.0</td>\n",
       "      <td>542.40</td>\n",
       "      <td>38.33</td>\n",
       "      <td>10</td>\n",
       "      <td>96.21</td>\n",
       "      <td>610.28</td>\n",
       "      <td>Stayed</td>\n",
       "      <td>NaN</td>\n",
       "      <td>NaN</td>\n",
       "    </tr>\n",
       "    <tr>\n",
       "      <th>0004-TLHLJ</th>\n",
       "      <td>Male</td>\n",
       "      <td>50</td>\n",
       "      <td>No</td>\n",
       "      <td>0</td>\n",
       "      <td>Costa Mesa</td>\n",
       "      <td>92627</td>\n",
       "      <td>33.645672</td>\n",
       "      <td>-117.922613</td>\n",
       "      <td>0</td>\n",
       "      <td>4</td>\n",
       "      <td>...</td>\n",
       "      <td>Bank Withdrawal</td>\n",
       "      <td>73.9</td>\n",
       "      <td>280.85</td>\n",
       "      <td>0.00</td>\n",
       "      <td>0</td>\n",
       "      <td>134.60</td>\n",
       "      <td>415.45</td>\n",
       "      <td>Churned</td>\n",
       "      <td>Competitor</td>\n",
       "      <td>Competitor had better devices</td>\n",
       "    </tr>\n",
       "  </tbody>\n",
       "</table>\n",
       "<p>3 rows × 37 columns</p>\n",
       "</div>"
      ],
      "text/plain": [
       "             Gender  Age Married  Number of Dependents          City  \\\n",
       "Customer ID                                                            \n",
       "0002-ORFBO   Female   37     Yes                     0  Frazier Park   \n",
       "0003-MKNFE     Male   46      No                     0      Glendale   \n",
       "0004-TLHLJ     Male   50      No                     0    Costa Mesa   \n",
       "\n",
       "             Zip Code   Latitude   Longitude  Number of Referrals  \\\n",
       "Customer ID                                                         \n",
       "0002-ORFBO      93225  34.827662 -118.999073                    2   \n",
       "0003-MKNFE      91206  34.162515 -118.203869                    0   \n",
       "0004-TLHLJ      92627  33.645672 -117.922613                    0   \n",
       "\n",
       "             Tenure in Months  ...   Payment Method Monthly Charge  \\\n",
       "Customer ID                    ...                                   \n",
       "0002-ORFBO                  9  ...      Credit Card           65.6   \n",
       "0003-MKNFE                  9  ...      Credit Card           -4.0   \n",
       "0004-TLHLJ                  4  ...  Bank Withdrawal           73.9   \n",
       "\n",
       "             Total Charges Total Refunds Total Extra Data Charges  \\\n",
       "Customer ID                                                         \n",
       "0002-ORFBO          593.30          0.00                        0   \n",
       "0003-MKNFE          542.40         38.33                       10   \n",
       "0004-TLHLJ          280.85          0.00                        0   \n",
       "\n",
       "            Total Long Distance Charges  Total Revenue Customer Status  \\\n",
       "Customer ID                                                              \n",
       "0002-ORFBO                       381.51         974.81          Stayed   \n",
       "0003-MKNFE                        96.21         610.28          Stayed   \n",
       "0004-TLHLJ                       134.60         415.45         Churned   \n",
       "\n",
       "            Churn Category                   Churn Reason  \n",
       "Customer ID                                                \n",
       "0002-ORFBO             NaN                            NaN  \n",
       "0003-MKNFE             NaN                            NaN  \n",
       "0004-TLHLJ      Competitor  Competitor had better devices  \n",
       "\n",
       "[3 rows x 37 columns]"
      ]
     },
     "execution_count": 3,
     "metadata": {},
     "output_type": "execute_result"
    }
   ],
   "source": [
    "# Reading in the data and displaying the first three rows\n",
    "df = pd.read_csv(\"telecom_customer_churn.csv\", index_col=\"Customer ID\")\n",
    "df.head(3)"
   ]
  },
  {
   "cell_type": "markdown",
   "metadata": {},
   "source": [
    "b) "
   ]
  },
  {
   "cell_type": "code",
   "execution_count": 4,
   "metadata": {},
   "outputs": [
    {
     "data": {
      "text/plain": [
       "14"
      ]
     },
     "execution_count": 4,
     "metadata": {},
     "output_type": "execute_result"
    }
   ],
   "source": [
    "# Displaying how many columns have missing values\n",
    "missing_values_count = df.isna().sum()\n",
    "\n",
    "columns_with_missing_values = missing_values_count[missing_values_count > 0]\n",
    "\n",
    "num_columns_with_missing_values = len(columns_with_missing_values)\n",
    "num_columns_with_missing_values"
   ]
  },
  {
   "cell_type": "markdown",
   "metadata": {},
   "source": [
    "c)"
   ]
  },
  {
   "cell_type": "code",
   "execution_count": 5,
   "metadata": {},
   "outputs": [
    {
     "data": {
      "text/plain": [
       "26972"
      ]
     },
     "execution_count": 5,
     "metadata": {},
     "output_type": "execute_result"
    }
   ],
   "source": [
    "# Calculating the total missing values in the data\n",
    "total_missing_values = df.isna().sum().sum()\n",
    "total_missing_values"
   ]
  },
  {
   "cell_type": "markdown",
   "metadata": {},
   "source": [
    "d)"
   ]
  },
  {
   "cell_type": "code",
   "execution_count": 6,
   "metadata": {},
   "outputs": [
    {
     "name": "stdout",
     "output_type": "stream",
     "text": [
      "      Number of Referrals  Tenure in Months  Monthly Charge  Total Revenue\n",
      "mean                 1.95             32.39           63.60        3034.38\n",
      "std                  3.00             24.54           31.20        2865.20\n",
      "min                  0.00              1.00          -10.00          21.36\n",
      "max                 11.00             72.00          118.75       11979.34\n"
     ]
    }
   ],
   "source": [
    "# Selecting the columns\n",
    "selected_columns = ['Number of Referrals', 'Tenure in Months', 'Monthly Charge', 'Total Revenue']\n",
    "# Computing the summary statistics\n",
    "summary_statistics = df[selected_columns].agg(['mean', 'std', 'min', 'max']).round(2)\n",
    "\n",
    "print(summary_statistics)"
   ]
  },
  {
   "cell_type": "markdown",
   "metadata": {},
   "source": [
    "e)"
   ]
  },
  {
   "cell_type": "code",
   "execution_count": 7,
   "metadata": {},
   "outputs": [
    {
     "name": "stdout",
     "output_type": "stream",
     "text": [
      "Number of customers: 7043\n",
      "Number of customers who churned: 1869\n",
      "Maximum of Total Extra Data Charges: 150.00\n",
      "Standard deviation of Total Extra Data Charges: 25.10\n"
     ]
    }
   ],
   "source": [
    "# Calculate the total number of customers\n",
    "total_customers = df.shape[0]\n",
    "# Count the number of customers who are labeled as 'Churned'\n",
    "churned_customers = df[df['Customer Status'] == 'Churned'].shape[0]\n",
    "# Find the maximum value in the 'Total Extra Data Charges'\n",
    "max_extra_data_charges = df['Total Extra Data Charges'].max()\n",
    "# Calculate the standard deviation of values in the 'Total Extra Data Charges'\n",
    "std_extra_data_charges = df['Total Extra Data Charges'].std()\n",
    "# Print the results and those who are floats rounded to two decimals\n",
    "print(f\"Number of customers: {total_customers}\")\n",
    "print(f\"Number of customers who churned: {churned_customers}\")\n",
    "print(f\"Maximum of Total Extra Data Charges: {max_extra_data_charges:.2f}\")\n",
    "print(f\"Standard deviation of Total Extra Data Charges: {std_extra_data_charges:.2f}\")"
   ]
  },
  {
   "cell_type": "markdown",
   "metadata": {},
   "source": [
    "f)"
   ]
  },
  {
   "cell_type": "code",
   "execution_count": 9,
   "metadata": {},
   "outputs": [
    {
     "name": "stdout",
     "output_type": "stream",
     "text": [
      "Percent of married people: 48.30\n"
     ]
    }
   ],
   "source": [
    "# Calculating the fraction of married people\n",
    "married_fraction = (df['Married'] == 'Yes').mean()\n",
    "# Converting it into percentage\n",
    "married_percentage = married_fraction * 100\n",
    "print(f\"Percent of married people: {married_percentage:.2f}\")"
   ]
  },
  {
   "cell_type": "markdown",
   "metadata": {},
   "source": [
    "g)"
   ]
  },
  {
   "cell_type": "code",
   "execution_count": 10,
   "metadata": {},
   "outputs": [
    {
     "data": {
      "text/plain": [
       "Competitor         841\n",
       "Dissatisfaction    321\n",
       "Attitude           314\n",
       "Name: Churn Category, dtype: int64"
      ]
     },
     "execution_count": 10,
     "metadata": {},
     "output_type": "execute_result"
    }
   ],
   "source": [
    "# Getting the three main reasons for Churning\n",
    "top_churn_categories = df['Churn Category'].value_counts().nlargest(3)\n",
    "\n",
    "top_churn_categories"
   ]
  },
  {
   "cell_type": "markdown",
   "metadata": {},
   "source": [
    "h)"
   ]
  },
  {
   "cell_type": "markdown",
   "metadata": {},
   "source": [
    "i)"
   ]
  },
  {
   "cell_type": "code",
   "execution_count": 13,
   "metadata": {},
   "outputs": [],
   "source": [
    "# Create a new target feature 'Churn Yes'\n",
    "df['Churn Yes'] = (df['Customer Status'] == 'Churned').astype(int)"
   ]
  },
  {
   "cell_type": "markdown",
   "metadata": {},
   "source": [
    "## Task 2"
   ]
  },
  {
   "cell_type": "markdown",
   "metadata": {},
   "source": [
    "a)"
   ]
  },
  {
   "cell_type": "code",
   "execution_count": 11,
   "metadata": {},
   "outputs": [
    {
     "data": {
      "image/png": "[encoded data removed]",
      "text/plain": [
       "<Figure size 1000x600 with 1 Axes>"
      ]
     },
     "metadata": {},
     "output_type": "display_data"
    }
   ],
   "source": [
    "# Get the five frequent reasons for Churning\n",
    "top_churn_reasons = df['Churn Reason'].value_counts().nlargest(5)\n",
    "\n",
    "# Create a bar chart\n",
    "plt.figure(figsize=(10, 6))\n",
    "plt.bar(top_churn_reasons.index, top_churn_reasons.values, color='red')\n",
    "plt.title('Top 5 Reasons for Churn')\n",
    "plt.xlabel('Churn Reason')\n",
    "plt.ylabel('Frequency')\n",
    "plt.xticks(rotation=20, ha='right')\n",
    "plt.show()"
   ]
  },
  {
   "cell_type": "markdown",
   "metadata": {},
   "source": [
    "b)"
   ]
  },
  {
   "cell_type": "code",
   "execution_count": 14,
   "metadata": {},
   "outputs": [
    {
     "data": {
      "image/png": "[encoded data removed]",
      "text/plain": [
       "<Figure size 800x500 with 1 Axes>"
      ]
     },
     "metadata": {},
     "output_type": "display_data"
    }
   ],
   "source": [
    "# Calculate the churn rate by gender\n",
    "churn_rate_by_gender = df.groupby('Gender')['Churn Yes'].mean()\n",
    "# Create a new figure for the plot and plot the variable that was calculated above\n",
    "plt.figure(figsize=(8, 5))\n",
    "churn_rate_by_gender.plot(kind='bar', color=['red', 'blue'])\n",
    "plt.title('Churn Rate by Gender')\n",
    "plt.xlabel('Gender')\n",
    "plt.ylabel('Churn Rate')\n",
    "plt.show()"
   ]
  },
  {
   "cell_type": "markdown",
   "metadata": {},
   "source": [
    "c)"
   ]
  },
  {
   "cell_type": "code",
   "execution_count": 15,
   "metadata": {},
   "outputs": [
    {
     "data": {
      "image/png": "[encoded data removed]",
      "text/plain": [
       "<Figure size 800x500 with 1 Axes>"
      ]
     },
     "metadata": {},
     "output_type": "display_data"
    }
   ],
   "source": [
    "# Calculate the churn rate by married or not married people\n",
    "churn_rate_by_married = df.groupby('Married')['Churn Yes'].mean()\n",
    "# Create a new figure for the plot and plot the variable that was calculated above\n",
    "plt.figure(figsize=(8, 5))\n",
    "churn_rate_by_married.plot(kind='bar', color=['red', 'blue'])\n",
    "plt.title('Churn Rate by Married Status')\n",
    "plt.xlabel('Married Status')\n",
    "plt.ylabel('Churn Rate')\n",
    "plt.show()"
   ]
  },
  {
   "cell_type": "markdown",
   "metadata": {},
   "source": [
    "d)"
   ]
  },
  {
   "cell_type": "code",
   "execution_count": 16,
   "metadata": {},
   "outputs": [
    {
     "data": {
      "image/png": "[encoded data removed]",
      "text/plain": [
       "<Figure size 800x500 with 1 Axes>"
      ]
     },
     "metadata": {},
     "output_type": "display_data"
    }
   ],
   "source": [
    "# Calculate the churn rate by contract option\n",
    "churn_rate_by_contract = df.groupby('Contract')['Churn Yes'].mean()\n",
    "# Create a new figure for the plot and plot the variable that was calculated above\n",
    "plt.figure(figsize=(8, 5))\n",
    "churn_rate_by_contract.plot(kind='bar', color=['blue', 'red', 'green'])\n",
    "plt.title('Churn Rate by Contract Type')\n",
    "plt.xlabel('Contract Type')\n",
    "plt.ylabel('Churn Rate')\n",
    "plt.show()"
   ]
  },
  {
   "cell_type": "markdown",
   "metadata": {},
   "source": [
    "e)"
   ]
  },
  {
   "cell_type": "code",
   "execution_count": 17,
   "metadata": {
    "scrolled": true
   },
   "outputs": [
    {
     "name": "stderr",
     "output_type": "stream",
     "text": [
      "C:\\Users\\teodo\\anaconda3\\Lib\\site-packages\\sklearn\\preprocessing\\_discretization.py:239: FutureWarning: In version 1.5 onwards, subsample=200_000 will be used by default. Set subsample explicitly to silence this warning in the mean time. Set subsample=None to disable subsampling explicitly.\n",
      "  warnings.warn(\n"
     ]
    },
    {
     "data": {
      "image/png": "[encoded data removed]",
      "text/plain": [
       "<Figure size 1000x600 with 1 Axes>"
      ]
     },
     "metadata": {},
     "output_type": "display_data"
    }
   ],
   "source": [
    "# Initialize a KBinsDiscretizer object\n",
    "kbins_discretizer = KBinsDiscretizer(n_bins=10, encode='ordinal', strategy='uniform')\n",
    "# Discretize the 'Total Charges' column into categories and assign the result to a new column 'Total Charges Category'\n",
    "df['Total Charges Category'] = kbins_discretizer.fit_transform(df[['Total Charges']])\n",
    "# Calculate the mean churn rate for each category\n",
    "churn_rate_by_total_charges = df.groupby('Total Charges Category')['Churn Yes'].mean()\n",
    "# Calculate the overall mean churn rate for the entire dataset\n",
    "overall_mean_churn_rate = df['Churn Yes'].mean()\n",
    "# Create a new figure and plot the new findings\n",
    "plt.figure(figsize=(10, 6))\n",
    "churn_rate_by_total_charges.plot(kind='bar', color='blue', label='Churn Rate')\n",
    "plt.axhline(y=overall_mean_churn_rate, color='red', label='Overall Mean Churn Rate')\n",
    "plt.title('Churn Rate by Total Charges Category')\n",
    "plt.xlabel('Total Charges Category')\n",
    "plt.ylabel('Churn Rate')\n",
    "plt.legend()\n",
    "plt.show()"
   ]
  },
  {
   "cell_type": "markdown",
   "metadata": {},
   "source": [
    "f)"
   ]
  },
  {
   "cell_type": "code",
   "execution_count": 18,
   "metadata": {},
   "outputs": [
    {
     "data": {
      "image/png": "[encoded data removed]",
      "text/plain": [
       "<Figure size 1000x600 with 1 Axes>"
      ]
     },
     "metadata": {},
     "output_type": "display_data"
    }
   ],
   "source": [
    "# Calculate the churn rate by Age\n",
    "churn_rate_by_age = df.groupby('Age')['Churn Yes'].mean()\n",
    "# Create a nile plot which will display the variable from above in a line plot\n",
    "plt.figure(figsize=(10, 6))\n",
    "plt.plot(churn_rate_by_age.index, churn_rate_by_age.values, color='red', linestyle='-', label='Churn Rate')\n",
    "plt.title('Churn Rate by Age')\n",
    "plt.xlabel('Age')\n",
    "plt.ylabel('Churn Rate')\n",
    "plt.legend()\n",
    "plt.show()"
   ]
  },
  {
   "cell_type": "markdown",
   "metadata": {},
   "source": [
    "## Task 3"
   ]
  },
  {
   "cell_type": "markdown",
   "metadata": {},
   "source": [
    "a)"
   ]
  },
  {
   "cell_type": "code",
   "execution_count": 19,
   "metadata": {},
   "outputs": [
    {
     "data": {
      "text/plain": [
       "(1869, 39)"
      ]
     },
     "execution_count": 19,
     "metadata": {},
     "output_type": "execute_result"
    }
   ],
   "source": [
    "df_churn = df[df['Customer Status'] == 'Churned'].copy()\n",
    "df_churn.shape"
   ]
  },
  {
   "cell_type": "markdown",
   "metadata": {},
   "source": [
    "b)"
   ]
  },
  {
   "cell_type": "code",
   "execution_count": 20,
   "metadata": {},
   "outputs": [],
   "source": [
    "# List of features to be dropped\n",
    "features_to_drop = ['Customer Status', 'Churn Yes', 'City', 'Zip Code', 'Churn Category', 'Churn Reason', 'Total Charges Category']\n",
    "df_churn = df_churn.drop(columns=features_to_drop)\n",
    "# Drop columns with missing values\n",
    "df_churn = df_churn.dropna(axis=1)"
   ]
  },
  {
   "cell_type": "markdown",
   "metadata": {},
   "source": [
    "c)"
   ]
  },
  {
   "cell_type": "code",
   "execution_count": 21,
   "metadata": {
    "scrolled": true
   },
   "outputs": [],
   "source": [
    "# Select numerical features\n",
    "df_numerical_features = df_churn.select_dtypes(include='number')\n",
    "# Select categorical features\n",
    "df_categorical_features = df_churn.select_dtypes(include='object')\n",
    "# Initialize a OneHotEncoder\n",
    "encoder = OneHotEncoder(drop='first', sparse_output=False)\n",
    "# Encode categorical features using OneHotEncoder\n",
    "categorical_encoded = encoder.fit_transform(df_categorical_features)\n",
    "\n",
    "# Create a DataFrame with the transformed categorical features\n",
    "df_kmeans = pd.DataFrame(data=categorical_encoded, columns=encoder.get_feature_names_out(df_categorical_features.columns))\n",
    "\n",
    "# Set the index of df_kmeans to match the index of df_churn\n",
    "df_kmeans.index = df_churn.index\n",
    "\n",
    "# Add the numerical features to df_kmeans\n",
    "df_kmeans[df_numerical_features.columns] = df_numerical_features"
   ]
  },
  {
   "cell_type": "markdown",
   "metadata": {},
   "source": [
    "d)"
   ]
  },
  {
   "cell_type": "code",
   "execution_count": 24,
   "metadata": {
    "scrolled": true
   },
   "outputs": [],
   "source": [
    "# Initialize the StandardScaler\n",
    "scaler = StandardScaler()\n",
    "\n",
    "# Standardize the features\n",
    "df_kmeans_scaled = scaler.fit_transform(df_kmeans)\n",
    "\n",
    "# Convert the standardized array back to a DataFrame\n",
    "df_kmeans_scaled = pd.DataFrame(df_kmeans_scaled, columns=df_kmeans.columns)"
   ]
  },
  {
   "cell_type": "markdown",
   "metadata": {},
   "source": [
    "e)"
   ]
  },
  {
   "cell_type": "code",
   "execution_count": 25,
   "metadata": {},
   "outputs": [
    {
     "data": {
      "text/plain": [
       "1    1424\n",
       "0     445\n",
       "Name: Cluster, dtype: int64"
      ]
     },
     "execution_count": 25,
     "metadata": {},
     "output_type": "execute_result"
    }
   ],
   "source": [
    "# Initialize the KMeans model\n",
    "kmeans = KMeans(n_clusters=2, n_init=5, random_state=123456)\n",
    "\n",
    "# Fit the model to the standardized data\n",
    "df_kmeans_scaled['Cluster'] = kmeans.fit_predict(df_kmeans_scaled)\n",
    "\n",
    "# Count the number of customers in each cluster\n",
    "cluster_counts = df_kmeans_scaled['Cluster'].value_counts()\n",
    "cluster_counts"
   ]
  },
  {
   "cell_type": "markdown",
   "metadata": {},
   "source": [
    "f)"
   ]
  },
  {
   "cell_type": "code",
   "execution_count": 27,
   "metadata": {},
   "outputs": [
    {
     "name": "stdout",
     "output_type": "stream",
     "text": [
      "Means of four features that differ considerably between the two clusters:\n",
      "         Total Revenue  Total Charges  Tenure in Months  \\\n",
      "Cluster                                                   \n",
      "0                 1.53           1.52              1.51   \n",
      "1                -0.48          -0.47             -0.47   \n",
      "\n",
      "         Total Long Distance Charges  \n",
      "Cluster                               \n",
      "0                               1.31  \n",
      "1                              -0.41  \n"
     ]
    }
   ],
   "source": [
    "# Compute the means of all numerical features for each cluster\n",
    "cluster_means = df_kmeans_scaled.groupby('Cluster').mean()\n",
    "\n",
    "# Display the means of four features that differ the most\n",
    "differing_features = cluster_means.std(axis=0).nlargest(4).index\n",
    "means_of_differing_features = cluster_means[differing_features]\n",
    "print(\"Means of four features that differ considerably between the two clusters:\")\n",
    "print(means_of_differing_features.round(2))\n"
   ]
  },
  {
   "cell_type": "markdown",
   "metadata": {},
   "source": [
    "g)"
   ]
  },
  {
   "cell_type": "markdown",
   "metadata": {},
   "source": [
    "## Task 4"
   ]
  },
  {
   "cell_type": "markdown",
   "metadata": {},
   "source": [
    "a)"
   ]
  },
  {
   "cell_type": "code",
   "execution_count": 28,
   "metadata": {},
   "outputs": [],
   "source": [
    "# Read the file and add Churn Yes a as binary feature\n",
    "df = pd.read_csv(\"telecom_customer_churn.csv\", index_col=\"Customer ID\")\n",
    "df['Churn Yes'] = (df['Customer Status'] == 'Churned').astype(int)\n",
    "\n",
    "# Validation + Test 40% | Train 60%\n",
    "df_train, df_temp = train_test_split(df, test_size=0.4, random_state=123456, stratify=df['Customer Status'])\n",
    "\n",
    "# Validation 20% | Test 20%\n",
    "df_val, df_test = train_test_split(df_temp, test_size=0.5, random_state=123456, stratify=df_temp['Customer Status'])"
   ]
  },
  {
   "cell_type": "markdown",
   "metadata": {},
   "source": [
    "b)"
   ]
  },
  {
   "cell_type": "code",
   "execution_count": 29,
   "metadata": {},
   "outputs": [],
   "source": [
    "# Select numerical columns and categorical columns\n",
    "numerical_columns = df_train.select_dtypes(include='number').columns\n",
    "categorical_columns = df_train.select_dtypes(include='object').columns\n",
    "\n",
    "# Fix missing values for all data partitions using Simple Imputer\n",
    "# Mean strategy for numerical columns | Mode strategy for categorical columns\n",
    "numerical_imputer = SimpleImputer(strategy='mean')\n",
    "categorical_imputer = SimpleImputer(strategy='most_frequent')\n",
    "\n",
    "df_train[numerical_columns] = numerical_imputer.fit_transform(df_train[numerical_columns])\n",
    "df_train[categorical_columns] = categorical_imputer.fit_transform(df_train[categorical_columns])\n",
    "\n",
    "df_val[numerical_columns] = numerical_imputer.transform(df_val[numerical_columns])\n",
    "df_val[categorical_columns] = categorical_imputer.transform(df_val[categorical_columns])\n",
    "\n",
    "df_test[numerical_columns] = numerical_imputer.transform(df_test[numerical_columns])\n",
    "df_test[categorical_columns] = categorical_imputer.transform(df_test[categorical_columns])"
   ]
  },
  {
   "cell_type": "markdown",
   "metadata": {},
   "source": [
    "c)"
   ]
  },
  {
   "cell_type": "markdown",
   "metadata": {},
   "source": [
    "d)"
   ]
  },
  {
   "cell_type": "code",
   "execution_count": 33,
   "metadata": {},
   "outputs": [
    {
     "name": "stdout",
     "output_type": "stream",
     "text": [
      "Fraction of Churners in Training Set:  0.27\n",
      "Fraction of Churners in Validation Set: 0.27\n"
     ]
    }
   ],
   "source": [
    "# The fraction of churners in training and validation set using the .mean() method\n",
    "fraction_churners_train = (df_train['Customer Status'] == 'Churned').mean()\n",
    "fraction_churners_val = (df_val['Customer Status'] == 'Churned').mean()\n",
    "\n",
    "print(f\"Fraction of Churners in Training Set: {fraction_churners_train: .2f}\")\n",
    "print(f\"Fraction of Churners in Validation Set: {fraction_churners_val:.2f}\")"
   ]
  },
  {
   "cell_type": "markdown",
   "metadata": {},
   "source": [
    "e)"
   ]
  },
  {
   "cell_type": "code",
   "execution_count": 34,
   "metadata": {},
   "outputs": [],
   "source": [
    "# Select the features of interest\n",
    "selected_features = ['Married', 'Gender', 'Phone Service', 'Multiple Lines', 'Internet Service', 'Unlimited Data']\n",
    "df_train['Churn Yes'] = (df_train['Customer Status'] == 'Churned').astype(int)\n",
    "\n",
    "# Duplicate training data containing only features of interest\n",
    "X_train1 = df_train[selected_features].copy()\n",
    "\n",
    "# Turn the features into binary form\n",
    "encoder = OneHotEncoder(drop='first', sparse_output=False)\n",
    "X_train1_encoded = encoder.fit_transform(X_train1)\n",
    "\n",
    "# Prepare training data and target feature\n",
    "X_train1_encoded_df = pd.DataFrame(X_train1_encoded, columns=encoder.get_feature_names_out(selected_features))\n",
    "y_train = df_train['Churn Yes'].copy()"
   ]
  },
  {
   "cell_type": "markdown",
   "metadata": {},
   "source": [
    "f)"
   ]
  },
  {
   "cell_type": "code",
   "execution_count": 35,
   "metadata": {},
   "outputs": [
    {
     "data": {
      "text/html": [
       "<style>#sk-container-id-1 {color: black;}#sk-container-id-1 pre{padding: 0;}#sk-container-id-1 div.sk-toggleable {background-color: white;}#sk-container-id-1 label.sk-toggleable__label {cursor: pointer;display: block;width: 100%;margin-bottom: 0;padding: 0.3em;box-sizing: border-box;text-align: center;}#sk-container-id-1 label.sk-toggleable__label-arrow:before {content: \"▸\";float: left;margin-right: 0.25em;color: #696969;}#sk-container-id-1 label.sk-toggleable__label-arrow:hover:before {color: black;}#sk-container-id-1 div.sk-estimator:hover label.sk-toggleable__label-arrow:before {color: black;}#sk-container-id-1 div.sk-toggleable__content {max-height: 0;max-width: 0;overflow: hidden;text-align: left;background-color: #f0f8ff;}#sk-container-id-1 div.sk-toggleable__content pre {margin: 0.2em;color: black;border-radius: 0.25em;background-color: #f0f8ff;}#sk-container-id-1 input.sk-toggleable__control:checked~div.sk-toggleable__content {max-height: 200px;max-width: 100%;overflow: auto;}#sk-container-id-1 input.sk-toggleable__control:checked~label.sk-toggleable__label-arrow:before {content: \"▾\";}#sk-container-id-1 div.sk-estimator input.sk-toggleable__control:checked~label.sk-toggleable__label {background-color: #d4ebff;}#sk-container-id-1 div.sk-label input.sk-toggleable__control:checked~label.sk-toggleable__label {background-color: #d4ebff;}#sk-container-id-1 input.sk-hidden--visually {border: 0;clip: rect(1px 1px 1px 1px);clip: rect(1px, 1px, 1px, 1px);height: 1px;margin: -1px;overflow: hidden;padding: 0;position: absolute;width: 1px;}#sk-container-id-1 div.sk-estimator {font-family: monospace;background-color: #f0f8ff;border: 1px dotted black;border-radius: 0.25em;box-sizing: border-box;margin-bottom: 0.5em;}#sk-container-id-1 div.sk-estimator:hover {background-color: #d4ebff;}#sk-container-id-1 div.sk-parallel-item::after {content: \"\";width: 100%;border-bottom: 1px solid gray;flex-grow: 1;}#sk-container-id-1 div.sk-label:hover label.sk-toggleable__label {background-color: #d4ebff;}#sk-container-id-1 div.sk-serial::before {content: \"\";position: absolute;border-left: 1px solid gray;box-sizing: border-box;top: 0;bottom: 0;left: 50%;z-index: 0;}#sk-container-id-1 div.sk-serial {display: flex;flex-direction: column;align-items: center;background-color: white;padding-right: 0.2em;padding-left: 0.2em;position: relative;}#sk-container-id-1 div.sk-item {position: relative;z-index: 1;}#sk-container-id-1 div.sk-parallel {display: flex;align-items: stretch;justify-content: center;background-color: white;position: relative;}#sk-container-id-1 div.sk-item::before, #sk-container-id-1 div.sk-parallel-item::before {content: \"\";position: absolute;border-left: 1px solid gray;box-sizing: border-box;top: 0;bottom: 0;left: 50%;z-index: -1;}#sk-container-id-1 div.sk-parallel-item {display: flex;flex-direction: column;z-index: 1;position: relative;background-color: white;}#sk-container-id-1 div.sk-parallel-item:first-child::after {align-self: flex-end;width: 50%;}#sk-container-id-1 div.sk-parallel-item:last-child::after {align-self: flex-start;width: 50%;}#sk-container-id-1 div.sk-parallel-item:only-child::after {width: 0;}#sk-container-id-1 div.sk-dashed-wrapped {border: 1px dashed gray;margin: 0 0.4em 0.5em 0.4em;box-sizing: border-box;padding-bottom: 0.4em;background-color: white;}#sk-container-id-1 div.sk-label label {font-family: monospace;font-weight: bold;display: inline-block;line-height: 1.2em;}#sk-container-id-1 div.sk-label-container {text-align: center;}#sk-container-id-1 div.sk-container {/* jupyter's `normalize.less` sets `[hidden] { display: none; }` but bootstrap.min.css set `[hidden] { display: none !important; }` so we also need the `!important` here to be able to override the default hidden behavior on the sphinx rendered scikit-learn.org. See: https://github.com/scikit-learn/scikit-learn/issues/21755 */display: inline-block !important;position: relative;}#sk-container-id-1 div.sk-text-repr-fallback {display: none;}</style><div id=\"sk-container-id-1\" class=\"sk-top-container\"><div class=\"sk-text-repr-fallback\"><pre>LogisticRegression(C=100000000.0, random_state=123456, tol=1e-05)</pre><b>In a Jupyter environment, please rerun this cell to show the HTML representation or trust the notebook. <br />On GitHub, the HTML representation is unable to render, please try loading this page with nbviewer.org.</b></div><div class=\"sk-container\" hidden><div class=\"sk-item\"><div class=\"sk-estimator sk-toggleable\"><input class=\"sk-toggleable__control sk-hidden--visually\" id=\"sk-estimator-id-1\" type=\"checkbox\" checked><label for=\"sk-estimator-id-1\" class=\"sk-toggleable__label sk-toggleable__label-arrow\">LogisticRegression</label><div class=\"sk-toggleable__content\"><pre>LogisticRegression(C=100000000.0, random_state=123456, tol=1e-05)</pre></div></div></div></div></div>"
      ],
      "text/plain": [
       "LogisticRegression(C=100000000.0, random_state=123456, tol=1e-05)"
      ]
     },
     "execution_count": 35,
     "metadata": {},
     "output_type": "execute_result"
    }
   ],
   "source": [
    "# Fit the model using logistic regression\n",
    "logreg_model = LogisticRegression(C=1e8, tol=1e-5, random_state=123456)\n",
    "\n",
    "logreg_model.fit(X_train1_encoded_df, y_train)"
   ]
  },
  {
   "cell_type": "markdown",
   "metadata": {},
   "source": [
    "g)"
   ]
  },
  {
   "cell_type": "code",
   "execution_count": 36,
   "metadata": {},
   "outputs": [
    {
     "name": "stdout",
     "output_type": "stream",
     "text": [
      "Intercept: [-2.51958796]\n",
      "Coefficients:\n",
      "Married_Yes: -0.7522108126344792\n",
      "Gender_Male: -0.01136580472526505\n",
      "Phone Service_Yes: 0.3744961188678889\n",
      "Multiple Lines_Yes: 0.02457014951425298\n",
      "Internet Service_Yes: 1.8401879402500214\n",
      "Unlimited Data_Yes: -0.08560453060129455\n"
     ]
    }
   ],
   "source": [
    "coefficients = logreg_model.coef_\n",
    "intercept = logreg_model.intercept_\n",
    "\n",
    "# Display the coefficients\n",
    "print(\"Intercept:\", intercept)\n",
    "print(\"Coefficients:\")\n",
    "for feature, coef in zip(X_train1_encoded_df.columns, coefficients[0]):\n",
    "    print(f\"{feature}: {coef}\")"
   ]
  },
  {
   "cell_type": "markdown",
   "metadata": {},
   "source": [
    "h)"
   ]
  },
  {
   "cell_type": "code",
   "execution_count": 37,
   "metadata": {},
   "outputs": [],
   "source": [
    "# Predict using the validation data\n",
    "\n",
    "# Duplicate validation data with only features of interest\n",
    "X_validation1 = df_val[selected_features].copy()\n",
    "df_val['Churn Yes'] = (df_val['Customer Status'] == 'Churned').astype(int)\n",
    "\n",
    "# Turn the features into binary form\n",
    "X_validation1_encoded = encoder.transform(X_validation1)\n",
    "\n",
    "# Prepare training data and target feature\n",
    "X_validation1_encoded_df = pd.DataFrame(X_validation1_encoded, columns=encoder.get_feature_names_out(selected_features))\n",
    "y_validation = df_val['Churn Yes'].copy()\n",
    "\n",
    "predictions_validation = logreg_model.predict(X_validation1_encoded_df)"
   ]
  },
  {
   "cell_type": "markdown",
   "metadata": {},
   "source": [
    "i)"
   ]
  },
  {
   "cell_type": "code",
   "execution_count": 40,
   "metadata": {},
   "outputs": [
    {
     "name": "stdout",
     "output_type": "stream",
     "text": [
      "Accuracy on Training Set: 0.73\n",
      "Accuracy on Validation Set: 0.73\n"
     ]
    }
   ],
   "source": [
    "# Compute accuracy for training data\n",
    "predictions_train = logreg_model.predict(X_train1_encoded_df)\n",
    "\n",
    "accuracy_train = accuracy_score(y_train, predictions_train)\n",
    "print(f\"Accuracy on Training Set: {accuracy_train:.2f}\")\n",
    "\n",
    "# Compute accuracy for validation data\n",
    "predictions_validation = logreg_model.predict(X_validation1_encoded_df)\n",
    "\n",
    "accuracy_validation = accuracy_score(y_validation, predictions_validation)\n",
    "print(f\"Accuracy on Validation Set: {accuracy_validation:.2f}\")"
   ]
  },
  {
   "cell_type": "markdown",
   "metadata": {},
   "source": [
    "## Task 5"
   ]
  },
  {
   "cell_type": "markdown",
   "metadata": {},
   "source": [
    "a)"
   ]
  },
  {
   "cell_type": "code",
   "execution_count": 41,
   "metadata": {},
   "outputs": [],
   "source": [
    "df_model = pd.read_csv(\"telecom_customer_churn.csv\", index_col=\"Customer ID\")\n",
    "df_model['Churn Yes'] = (df_model['Customer Status'] == 'Churned').astype(int)\n",
    "\n",
    "# Select specific features along with the target variable\n",
    "included_features = ['Tenure in Months', 'Number of Referrals', 'Monthly Charge', 'Contract', 'Payment Method', 'Married', 'Internet Service']\n",
    "df_model = df_model[included_features + ['Churn Yes']]\n",
    "\n",
    "# Identify numerical and categorical columns\n",
    "numerical_columns_m = df_model.select_dtypes(include='number').columns\n",
    "categorical_columns_m = df_model.select_dtypes(include='object').columns\n",
    "\n",
    "# Initialize imputers for numerical and categorical columns\n",
    "numerical_imputer_m = SimpleImputer(strategy='mean')\n",
    "categorical_imputer_m = SimpleImputer(strategy='most_frequent')\n",
    "\n",
    "# Impute missing values for numerical and categorical columns\n",
    "df_model[numerical_columns_m] = numerical_imputer_m.fit_transform(df_model[numerical_columns_m])\n",
    "df_model[categorical_columns_m] = categorical_imputer_m.fit_transform(df_model[categorical_columns_m])\n",
    "\n",
    "# Separate numerical and categorical features\n",
    "df_numerical_features_m = df_model.select_dtypes(include='number')\n",
    "df_categorical_features_m = df_model.select_dtypes(include='object')\n",
    "\n",
    "# Encode categorical features using OneHotEncoder\n",
    "encoder = OneHotEncoder(drop='first', sparse_output=False)\n",
    "categorical_encoded_m = encoder.fit_transform(df_categorical_features_m)\n",
    "\n",
    "# Create a DataFrame with the transformed categorical features\n",
    "df_model_encoded = pd.DataFrame(data=categorical_encoded_m, columns=encoder.get_feature_names_out(df_categorical_features_m.columns))\n",
    "df_model_encoded.index = df_model.index\n",
    "\n",
    "# Add the numerical features to df_model_encoded\n",
    "df_model_encoded[df_numerical_features_m.columns] = df_numerical_features_m"
   ]
  },
  {
   "cell_type": "code",
   "execution_count": 42,
   "metadata": {},
   "outputs": [
    {
     "name": "stdout",
     "output_type": "stream",
     "text": [
      "Fraction of Churners in Training Set: 0.26532544378698225\n",
      "Fraction of Churners in Validation Set: 0.2654364797728886\n"
     ]
    }
   ],
   "source": [
    "# Validation + Test 40% | Train 60%\n",
    "df_train_2, df_temp_2 = train_test_split(df_model_encoded, test_size=0.4, random_state=123456, stratify=df_model_encoded['Churn Yes'])\n",
    "\n",
    "# Validation 20% | Test 20%\n",
    "df_val_2, df_test_2 = train_test_split(df_temp_2, test_size=0.5, random_state=123456, stratify=df_temp_2['Churn Yes'])\n",
    "\n",
    "fraction_churners_train_2 = (df_train_2['Churn Yes'] == 1).mean()\n",
    "fraction_churners_val_2 = (df_val_2['Churn Yes'] == 1).mean()\n",
    "\n",
    "print(\"Fraction of Churners in Training Set:\", fraction_churners_train_2)\n",
    "print(\"Fraction of Churners in Validation Set:\", fraction_churners_val_2)"
   ]
  },
  {
   "cell_type": "code",
   "execution_count": 45,
   "metadata": {},
   "outputs": [
    {
     "name": "stdout",
     "output_type": "stream",
     "text": [
      "Model2 Accuracy (Training): 0.819\n",
      "Model2 Accuracy (Validation): 0.815\n",
      "Model2 Accuracy (Test): 0.825\n"
     ]
    }
   ],
   "source": [
    "# Create DataFrames for training, validation, and test sets\n",
    "X_train_2 = df_train_2.drop(columns='Churn Yes')\n",
    "X_validation_2 = df_val_2.drop(columns='Churn Yes')\n",
    "X_test_2 = df_test_2.drop(columns='Churn Yes')\n",
    "\n",
    "# Target variable for training\n",
    "y_train_2 = df_train_2['Churn Yes']\n",
    "\n",
    "# Target variable for validation\n",
    "y_validation_2 = df_val_2['Churn Yes']\n",
    "\n",
    "# Target variable for test\n",
    "y_test_2 = df_test_2['Churn Yes']\n",
    "\n",
    "# Initialize a StandardScaler and scale the data\n",
    "scaler_m = StandardScaler()\n",
    "# We use the fit only for the training data\n",
    "X_train_2_scaled = scaler_m.fit_transform(X_train_2)\n",
    "X_validation_2_scaled = scaler_m.transform(X_validation_2)\n",
    "X_test_2_scaled = scaler_m.transform(X_test_2)\n",
    "\n",
    "\n",
    "# Initialize and train the logistic regression model\n",
    "model_2 = LogisticRegression(C=1e8, tol=1e-5, random_state=123456)\n",
    "\n",
    "# Train the model on the training data\n",
    "model_2.fit(X_train_2_scaled, y_train_2)\n",
    "\n",
    "# Make predictions on the training set\n",
    "y_train_pred_2 = model_2.predict(X_train_2_scaled)\n",
    "\n",
    "# Make predictions on the test set\n",
    "y_test_pred_2 = model_2.predict(X_test_2_scaled)\n",
    "\n",
    "# Make predictions on the validation set\n",
    "y_validation_pred_2 = model_2.predict(X_validation_2_scaled)\n",
    "\n",
    "# Calculate accuracy on the training set\n",
    "accuracy_train_2 = accuracy_score(y_train_2, y_train_pred_2)\n",
    "\n",
    "# Calculate accuracy on the validation set\n",
    "accuracy_val_2 = accuracy_score(y_validation_2, y_validation_pred_2)\n",
    "accuracy_test_2 = accuracy_score(y_test_2, y_test_pred_2)\n",
    "\n",
    "# Display the results\n",
    "print(\"Model2 Accuracy (Training): {:.3f}\".format(accuracy_train_2))\n",
    "print(\"Model2 Accuracy (Validation): {:.3f}\".format(accuracy_val_2))\n",
    "print(\"Model2 Accuracy (Test): {:.3f}\".format(accuracy_test_2))"
   ]
  },
  {
   "cell_type": "markdown",
   "metadata": {},
   "source": [
    "b)"
   ]
  },
  {
   "cell_type": "markdown",
   "metadata": {},
   "source": [
    "## Task 6"
   ]
  },
  {
   "cell_type": "markdown",
   "metadata": {},
   "source": [
    "a)"
   ]
  },
  {
   "cell_type": "code",
   "execution_count": 47,
   "metadata": {},
   "outputs": [
    {
     "name": "stdout",
     "output_type": "stream",
     "text": [
      "             Churn Yes  Churn Probability\n",
      "Customer ID                              \n",
      "4767-HZZHQ         0.0           0.212324\n",
      "0756-MPZRL         0.0           0.029343\n",
      "7251-XFOIL         0.0           0.204331\n",
      "5373-SFODM         1.0           0.560820\n",
      "0880-FVFWF         0.0           0.344958\n",
      "...                ...                ...\n",
      "3768-NLUBH         1.0           0.645272\n",
      "5505-OVWQW         0.0           0.078972\n",
      "1965-AKTSX         1.0           0.602027\n",
      "6997-UVGOX         0.0           0.000689\n",
      "3902-MIVLE         0.0           0.011564\n",
      "\n",
      "[1409 rows x 2 columns]\n"
     ]
    }
   ],
   "source": [
    "# Calculate churn probabilities for each customer in X_val_2\n",
    "churn_probabilities = model_2.predict_proba(X_validation_2_scaled)[:, 1]\n",
    "\n",
    "# Add the churn probabilities to the validation DataFrame\n",
    "df_val_2['Churn Probability'] = churn_probabilities\n",
    "\n",
    "# Display the DataFrame with churn probabilities\n",
    "print(df_val_2[['Churn Yes', 'Churn Probability']])\n"
   ]
  },
  {
   "cell_type": "markdown",
   "metadata": {},
   "source": [
    "b)"
   ]
  },
  {
   "cell_type": "code",
   "execution_count": 48,
   "metadata": {},
   "outputs": [
    {
     "name": "stdout",
     "output_type": "stream",
     "text": [
      "Total Costs of the Campaign: CHF 80000.00\n"
     ]
    }
   ],
   "source": [
    "# Set the thresholds for incentives\n",
    "threshold_1 = 0.6  # 60%\n",
    "threshold_2 = 0.75  # 75%\n",
    "\n",
    "# Identify customers who receive an incentive\n",
    "df_val_2['Incentive Amount'] = 0  # Initialize the incentive amount column\n",
    "\n",
    "# Customers with churn probability in [60%, 75%) receive an incentive worth CHF 200\n",
    "df_val_2.loc[(df_val_2['Churn Probability'] >= threshold_1) & (df_val_2['Churn Probability'] < threshold_2), 'Incentive Amount'] = 200\n",
    "\n",
    "# Customers with churn probability greater than or equal to 75% receive an incentive worth CHF 500\n",
    "df_val_2.loc[df_val_2['Churn Probability'] >= threshold_2, 'Incentive Amount'] = 500\n",
    "\n",
    "# Calculate the total costs\n",
    "fixed_costs = 10000  # Fixed costs of the campaign\n",
    "total_costs = fixed_costs + df_val_2['Incentive Amount'].sum()\n",
    "\n",
    "# Display the total costs\n",
    "print(\"Total Costs of the Campaign: CHF {:.2f}\".format(total_costs))\n"
   ]
  },
  {
   "cell_type": "markdown",
   "metadata": {},
   "source": [
    "c)"
   ]
  },
  {
   "cell_type": "code",
   "execution_count": 49,
   "metadata": {},
   "outputs": [
    {
     "name": "stdout",
     "output_type": "stream",
     "text": [
      "Number of Customers with Churn Yes=0 receiving an incentive: 72\n"
     ]
    }
   ],
   "source": [
    "# Count the number of customers with Churn Yes=0 who receive an incentive\n",
    "num_customers_incentive_0 = df_val_2.loc[(df_val_2['Churn Yes'] == 0) & (df_val_2['Incentive Amount'] > 0)].shape[0]\n",
    "\n",
    "# Display the result\n",
    "print(\"Number of Customers with Churn Yes=0 receiving an incentive:\", num_customers_incentive_0)"
   ]
  },
  {
   "cell_type": "markdown",
   "metadata": {},
   "source": [
    "d)"
   ]
  },
  {
   "cell_type": "code",
   "execution_count": 50,
   "metadata": {},
   "outputs": [
    {
     "name": "stdout",
     "output_type": "stream",
     "text": [
      "Number of Customers with Churn Yes=1 not receiving an incentive: 198\n"
     ]
    }
   ],
   "source": [
    "# Count the number of customers with Churn Yes=1 who do not receive an incentive\n",
    "num_customers_no_incentive_1 = df_val_2.loc[(df_val_2['Churn Yes'] == 1) & (df_val_2['Incentive Amount'] == 0)].shape[0]\n",
    "\n",
    "# Display the result\n",
    "print(\"Number of Customers with Churn Yes=1 not receiving an incentive:\", num_customers_no_incentive_1)"
   ]
  },
  {
   "cell_type": "markdown",
   "metadata": {},
   "source": [
    "e)"
   ]
  },
  {
   "cell_type": "code",
   "execution_count": 51,
   "metadata": {},
   "outputs": [
    {
     "name": "stdout",
     "output_type": "stream",
     "text": [
      "Total Money Spent on Incentives for Customers with Churn Yes=0: 18900\n"
     ]
    }
   ],
   "source": [
    "# Calculate the total money spent on incentives for customers with Churn Yes=0\n",
    "total_money_spent_incentives_0 = df_val_2.loc[(df_val_2['Churn Yes'] == 0), 'Incentive Amount'].sum()\n",
    "\n",
    "# Display the result\n",
    "print(\"Total Money Spent on Incentives for Customers with Churn Yes=0:\", total_money_spent_incentives_0)\n"
   ]
  },
  {
   "cell_type": "markdown",
   "metadata": {},
   "source": [
    "f)"
   ]
  },
  {
   "cell_type": "code",
   "execution_count": 52,
   "metadata": {},
   "outputs": [
    {
     "name": "stdout",
     "output_type": "stream",
     "text": [
      "Total Money Spent on Incentives for Customers with Churn Yes=1: 51100\n"
     ]
    }
   ],
   "source": [
    "# Calculate the total money spent on incentives for customers with Churn Yes=1\n",
    "total_money_spent_incentives_1 = df_val_2.loc[(df_val_2['Churn Yes'] == 1), 'Incentive Amount'].sum()\n",
    "\n",
    "print(\"Total Money Spent on Incentives for Customers with Churn Yes=1:\", total_money_spent_incentives_1)\n"
   ]
  },
  {
   "cell_type": "markdown",
   "metadata": {},
   "source": [
    "g)"
   ]
  },
  {
   "cell_type": "code",
   "execution_count": 55,
   "metadata": {},
   "outputs": [
    {
     "name": "stdout",
     "output_type": "stream",
     "text": [
      "Number of Customers with Churn Yes=1: 374\n",
      "Number of Customer with Churn Yes=1 which received a incentive: 176\n",
      "This is will be the comapnies gain based on the effect of incetives on people that have Churn Yes=1: 127600\n",
      "The final gain/loss of the campaign: 47600\n"
     ]
    }
   ],
   "source": [
    "num_customers_churn = (df_val_2['Churn Yes'] == 1).sum()\n",
    "n_customers_prevented_from_churning = df_val_2.loc[(df_val_2['Churn Yes'] == 1) & (df_val_2['Incentive Amount'] > 0)].shape[0]\n",
    "\n",
    "print(\"Number of Customers with Churn Yes=1:\", num_customers_churn)\n",
    "print(\"Number of Customer with Churn Yes=1 which received a incentive:\",n_customers_prevented_from_churning)\n",
    "\n",
    "benefit_campaign = n_customers_prevented_from_churning * 725\n",
    "print(\"This is will be the comapnies gain based on the effect of incetives on people that have Churn Yes=1:\",benefit_campaign)\n",
    "cost_of_campaign = benefit_campaign - total_costs #total_costs is a calculation in b)\n",
    "print(\"The final gain/loss of the campaign:\",cost_of_campaign)"
   ]
  },
  {
   "cell_type": "code",
   "execution_count": null,
   "metadata": {},
   "outputs": [],
   "source": []
  }
 ],
 "metadata": {
  "kernelspec": {
   "display_name": "Python 3 (ipykernel)",
   "language": "python",
   "name": "python3"
  },
  "language_info": {
   "codemirror_mode": {
    "name": "ipython",
    "version": 3
   },
   "file_extension": ".py",
   "mimetype": "text/x-python",
   "name": "python",
   "nbconvert_exporter": "python",
   "pygments_lexer": "ipython3",
   "version": "3.11.4"
  }
 },
 "nbformat": 4,
 "nbformat_minor": 2
}
